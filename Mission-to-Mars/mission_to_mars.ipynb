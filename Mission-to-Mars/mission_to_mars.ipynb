{
 "cells": [
  {
   "cell_type": "code",
   "execution_count": 1,
   "metadata": {},
   "outputs": [],
   "source": [
    "# Import libraries\n",
    "import pandas as pd\n",
    "from bs4 import BeautifulSoup as bs\n",
    "from splinter import Browser\n",
    "import requests\n",
    "import time"
   ]
  },
  {
   "cell_type": "code",
   "execution_count": 2,
   "metadata": {},
   "outputs": [],
   "source": [
    "# function to visit links\n",
    "# Parameters url: url to visit\n",
    "#            seconds: seconds to wait before scraping\n",
    "#            browser: instance of the browser\n",
    "# Returns: browser.html\n",
    "def visit_url(url,seconds,browser):\n",
    "    browser.visit(url)\n",
    "    time.sleep(seconds)\n",
    "    return browser.html"
   ]
  },
  {
   "cell_type": "code",
   "execution_count": 3,
   "metadata": {},
   "outputs": [
    {
     "name": "stdout",
     "output_type": "stream",
     "text": [
      "Title: Air Deliveries Bring NASA's Perseverance Mars Rover Closer to Launch \n",
      "Description: A NASA Wallops Flight Facility cargo plane transported more than two tons of equipment — including the rover's sample collection tubes — to Florida for this summer's liftoff.\n"
     ]
    }
   ],
   "source": [
    "# Set up the chromedriver and browser\n",
    "executable_path = {'executable_path': 'chromedriver.exe'}\n",
    "browser = Browser('chrome', **executable_path, headless=False)\n",
    "\n",
    "# Call visit_url to get html for the page\n",
    "soup = bs(visit_url(\"https://mars.nasa.gov/news/\",5,browser), 'html.parser')\n",
    "\n",
    "# Find the Title and Description from the html and print it\n",
    "results = soup.find('li', class_='slide')\n",
    "news_title = results.find('h3').text\n",
    "news_p = results.find('div',class_=\"article_teaser_body\").text\n",
    "print(f\"Title: {news_title} \\nDescription: {news_p}\")"
   ]
  },
  {
   "cell_type": "code",
   "execution_count": 4,
   "metadata": {},
   "outputs": [
    {
     "name": "stderr",
     "output_type": "stream",
     "text": [
      "C:\\Users\\nickv\\Anaconda3\\envs\\PythonData2020\\lib\\site-packages\\splinter\\driver\\webdriver\\__init__.py:528: FutureWarning: browser.find_link_by_partial_text is deprecated. Use browser.links.find_by_partial_text instead.\n",
      "  FutureWarning,\n"
     ]
    },
    {
     "data": {
      "text/plain": [
       "'https://www.jpl.nasa.gov/spaceimages/images/largesize/PIA17357_hires.jpg'"
      ]
     },
     "execution_count": 4,
     "metadata": {},
     "output_type": "execute_result"
    }
   ],
   "source": [
    "# Call visit_url to get html for the page\n",
    "soup = bs(visit_url(\"https://www.jpl.nasa.gov/spaceimages/?search=&category=Mars\",0,browser), 'html.parser')\n",
    "\n",
    "# Click on the 'Full Image' and 'more info' to get to the correct page\n",
    "browser.click_link_by_id('full_image')\n",
    "browser.click_link_by_partial_text('more info')\n",
    "\n",
    "# Get the html for the page\n",
    "soup = bs(browser.html, 'html.parser')\n",
    "\n",
    "# Find the url for the image, split the browser url on '/spaceimages' and prepend the first part to the image url\n",
    "image_url = soup.find(\"img\", class_=\"main_image\")\n",
    "featured_image_url = browser.url.split(\"/spaceimages\")[0] + image_url['src']\n",
    "featured_image_url"
   ]
  },
  {
   "cell_type": "code",
   "execution_count": 5,
   "metadata": {},
   "outputs": [
    {
     "data": {
      "text/plain": [
       "'InSight sol 526 (2020-05-20) low -94.0ºC (-137.2ºF) high -1.8ºC (28.8ºF)\\nwinds from the SW at 5.2 m/s (11.7 mph) gusting to 19.6 m/s (43.9 mph)\\npressure at 7.10 hPa'"
      ]
     },
     "execution_count": 5,
     "metadata": {},
     "output_type": "execute_result"
    }
   ],
   "source": [
    "# Call visit_url to get html for the page\n",
    "soup = bs(visit_url(\"https://twitter.com/marswxreport?lang=en\",20,browser), 'html.parser')\n",
    "\n",
    "# find all 'article' tags in the page\n",
    "articles = soup.find_all('article')\n",
    "\n",
    "# Set variables to do determine if a report was found, due to lengthy loading times sometimes the weather report is not found \n",
    "latest_report_found = False\n",
    "i = 0\n",
    "mars_weather = \"No Report Available --- Try again shortly \"\n",
    "\n",
    "# Loop until a report is found by filtering 'InSight sol' or until there are no more articles\n",
    "while latest_report_found == False and i < len(articles):\n",
    "    spans = articles[i].find_all('span')\n",
    "    if spans[4].text[0:11] == \"InSight sol\":\n",
    "        latest_report_found = True\n",
    "        mars_weather = spans[4].text\n",
    "    i += 1\n",
    "    \n",
    "mars_weather"
   ]
  },
  {
   "cell_type": "code",
   "execution_count": 6,
   "metadata": {},
   "outputs": [
    {
     "name": "stdout",
     "output_type": "stream",
     "text": [
      "<table border=\"1\" class=\"dataframe\">\n",
      "  <thead>\n",
      "    <tr style=\"text-align: right;\">\n",
      "      <th>Category</th>\n",
      "      <th>Value</th>\n",
      "    </tr>\n",
      "  </thead>\n",
      "  <tbody>\n",
      "    <tr>\n",
      "      <td>Equatorial Diameter:</td>\n",
      "      <td>6,792 km</td>\n",
      "    </tr>\n",
      "    <tr>\n",
      "      <td>Polar Diameter:</td>\n",
      "      <td>6,752 km</td>\n",
      "    </tr>\n",
      "    <tr>\n",
      "      <td>Mass:</td>\n",
      "      <td>6.39 × 10^23 kg (0.11 Earths)</td>\n",
      "    </tr>\n",
      "    <tr>\n",
      "      <td>Moons:</td>\n",
      "      <td>2 (Phobos &amp; Deimos)</td>\n",
      "    </tr>\n",
      "    <tr>\n",
      "      <td>Orbit Distance:</td>\n",
      "      <td>227,943,824 km (1.38 AU)</td>\n",
      "    </tr>\n",
      "    <tr>\n",
      "      <td>Orbit Period:</td>\n",
      "      <td>687 days (1.9 years)</td>\n",
      "    </tr>\n",
      "    <tr>\n",
      "      <td>Surface Temperature:</td>\n",
      "      <td>-87 to -5 °C</td>\n",
      "    </tr>\n",
      "    <tr>\n",
      "      <td>First Record:</td>\n",
      "      <td>2nd millennium BC</td>\n",
      "    </tr>\n",
      "    <tr>\n",
      "      <td>Recorded By:</td>\n",
      "      <td>Egyptian astronomers</td>\n",
      "    </tr>\n",
      "  </tbody>\n",
      "</table>\n"
     ]
    }
   ],
   "source": [
    "# Read html tables into a dataframe\n",
    "tables = pd.read_html(\"https://space-facts.com/mars/\")\n",
    "\n",
    "# Select the first table and set the columns\n",
    "df = tables[0]\n",
    "df.columns = ['Category', 'Value']\n",
    "\n",
    "# Convert the dataframe into an html table, do not include an index\n",
    "html_table = df.to_html(index=False)\n",
    "print(html_table)\n",
    "\n",
    "# Remove new lines from the html\n",
    "html_table = html_table.replace('\\n', '')\n"
   ]
  },
  {
   "cell_type": "code",
   "execution_count": 7,
   "metadata": {},
   "outputs": [
    {
     "name": "stderr",
     "output_type": "stream",
     "text": [
      "C:\\Users\\nickv\\Anaconda3\\envs\\PythonData2020\\lib\\site-packages\\splinter\\driver\\webdriver\\__init__.py:528: FutureWarning: browser.find_link_by_partial_text is deprecated. Use browser.links.find_by_partial_text instead.\n",
      "  FutureWarning,\n"
     ]
    },
    {
     "data": {
      "text/plain": [
       "[{'title': 'Cerberus Hemisphere',\n",
       "  'img_url': 'https://astropedia.astrogeology.usgs.gov/download/Mars/Viking/cerberus_enhanced.tif/full.jpg'},\n",
       " {'title': 'Schiaparelli Hemisphere',\n",
       "  'img_url': 'https://astropedia.astrogeology.usgs.gov/download/Mars/Viking/schiaparelli_enhanced.tif/full.jpg'},\n",
       " {'title': 'Syrtis Major Hemisphere',\n",
       "  'img_url': 'https://astropedia.astrogeology.usgs.gov/download/Mars/Viking/syrtis_major_enhanced.tif/full.jpg'},\n",
       " {'title': 'Valles Marineris Hemisphere',\n",
       "  'img_url': 'https://astropedia.astrogeology.usgs.gov/download/Mars/Viking/valles_marineris_enhanced.tif/full.jpg'}]"
      ]
     },
     "execution_count": 7,
     "metadata": {},
     "output_type": "execute_result"
    }
   ],
   "source": [
    "# Call visit_url to get html for the page\n",
    "soup = bs(visit_url(\"https://astrogeology.usgs.gov/search/results?q=hemisphere+enhanced&k1=target&v1=Mars\",0,browser), 'html.parser')\n",
    "\n",
    "# Find all 'div' tags with the class 'description'\n",
    "items = soup.find_all('div',class_='description')\n",
    "\n",
    "#loop thru the links and add dictionary to list\n",
    "hemisphere_image_urls = []\n",
    "for item in items:\n",
    "    # Find an 'a' tag in current 'div' and set the title to the link text\n",
    "    link = item.find(\"a\")\n",
    "    title = link.text[0:len(link.text)-9]\n",
    "    # Click the link\n",
    "    browser.click_link_by_partial_text(link.text)\n",
    "    # Get the html from the page\n",
    "    soup = bs(browser.html,'html.parser')\n",
    "    # Find the Sample link and get the url\n",
    "    image = browser.find_by_text('Sample')\n",
    "    image_url = image['href']\n",
    "    # Add the title and url as a dictionary to the list\n",
    "    hemisphere_image_urls.append({\"title\": title, \"img_url\": image_url})\n",
    "    # Return to the previous page\n",
    "    browser.back()\n",
    "hemisphere_image_urls"
   ]
  },
  {
   "cell_type": "code",
   "execution_count": 8,
   "metadata": {},
   "outputs": [],
   "source": [
    "# Close the browser\n",
    "browser.quit()"
   ]
  },
  {
   "cell_type": "code",
   "execution_count": null,
   "metadata": {},
   "outputs": [],
   "source": []
  }
 ],
 "metadata": {
  "kernelspec": {
   "display_name": "Python 3",
   "language": "python",
   "name": "python3"
  },
  "language_info": {
   "codemirror_mode": {
    "name": "ipython",
    "version": 3
   },
   "file_extension": ".py",
   "mimetype": "text/x-python",
   "name": "python",
   "nbconvert_exporter": "python",
   "pygments_lexer": "ipython3",
   "version": "3.6.10"
  }
 },
 "nbformat": 4,
 "nbformat_minor": 4
}
